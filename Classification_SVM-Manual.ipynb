{
 "cells": [
  {
   "cell_type": "markdown",
   "metadata": {
    "id": "I9yc9F1SkP0Q"
   },
   "source": [
    "# Clustering Cell Sample menggunakan SVM (Manual)"
   ]
  },
  {
   "cell_type": "markdown",
   "metadata": {
    "id": "J75beu6dkaHE"
   },
   "source": [
    "Oleh Denny Dewanta"
   ]
  },
  {
   "cell_type": "markdown",
   "metadata": {
    "id": "sUvuERvkke6_"
   },
   "source": [
    "## Pre-processing"
   ]
  },
  {
   "cell_type": "code",
   "execution_count": 24,
   "metadata": {
    "id": "BLP_ZbaU8fP7"
   },
   "outputs": [],
   "source": [
    "import numpy as np\n",
    "import pandas as pd\n",
    "import random as rnd\n",
    "import matplotlib.pyplot as plt\n",
    "from sklearn.model_selection import train_test_split"
   ]
  },
  {
   "cell_type": "code",
   "execution_count": 25,
   "metadata": {
    "colab": {
     "base_uri": "https://localhost:8080/",
     "height": 206
    },
    "id": "mVNIlQyn8oFO",
    "outputId": "4fbca24b-a46a-43a0-d844-1dd5424d761b"
   },
   "outputs": [
    {
     "data": {
      "text/html": [
       "<div>\n",
       "<style scoped>\n",
       "    .dataframe tbody tr th:only-of-type {\n",
       "        vertical-align: middle;\n",
       "    }\n",
       "\n",
       "    .dataframe tbody tr th {\n",
       "        vertical-align: top;\n",
       "    }\n",
       "\n",
       "    .dataframe thead th {\n",
       "        text-align: right;\n",
       "    }\n",
       "</style>\n",
       "<table border=\"1\" class=\"dataframe\">\n",
       "  <thead>\n",
       "    <tr style=\"text-align: right;\">\n",
       "      <th></th>\n",
       "      <th>ID</th>\n",
       "      <th>Clump</th>\n",
       "      <th>UnifSize</th>\n",
       "      <th>UnifShape</th>\n",
       "      <th>MargAdh</th>\n",
       "      <th>SingEpiSize</th>\n",
       "      <th>BareNuc</th>\n",
       "      <th>BlandChrom</th>\n",
       "      <th>NormNucl</th>\n",
       "      <th>Mit</th>\n",
       "      <th>Class</th>\n",
       "    </tr>\n",
       "  </thead>\n",
       "  <tbody>\n",
       "    <tr>\n",
       "      <th>0</th>\n",
       "      <td>1000025</td>\n",
       "      <td>5</td>\n",
       "      <td>1</td>\n",
       "      <td>1</td>\n",
       "      <td>1</td>\n",
       "      <td>2</td>\n",
       "      <td>1</td>\n",
       "      <td>3</td>\n",
       "      <td>1</td>\n",
       "      <td>1</td>\n",
       "      <td>2</td>\n",
       "    </tr>\n",
       "    <tr>\n",
       "      <th>1</th>\n",
       "      <td>1002945</td>\n",
       "      <td>5</td>\n",
       "      <td>4</td>\n",
       "      <td>4</td>\n",
       "      <td>5</td>\n",
       "      <td>7</td>\n",
       "      <td>10</td>\n",
       "      <td>3</td>\n",
       "      <td>2</td>\n",
       "      <td>1</td>\n",
       "      <td>2</td>\n",
       "    </tr>\n",
       "    <tr>\n",
       "      <th>2</th>\n",
       "      <td>1015425</td>\n",
       "      <td>3</td>\n",
       "      <td>1</td>\n",
       "      <td>1</td>\n",
       "      <td>1</td>\n",
       "      <td>2</td>\n",
       "      <td>2</td>\n",
       "      <td>3</td>\n",
       "      <td>1</td>\n",
       "      <td>1</td>\n",
       "      <td>2</td>\n",
       "    </tr>\n",
       "    <tr>\n",
       "      <th>3</th>\n",
       "      <td>1016277</td>\n",
       "      <td>6</td>\n",
       "      <td>8</td>\n",
       "      <td>8</td>\n",
       "      <td>1</td>\n",
       "      <td>3</td>\n",
       "      <td>4</td>\n",
       "      <td>3</td>\n",
       "      <td>7</td>\n",
       "      <td>1</td>\n",
       "      <td>2</td>\n",
       "    </tr>\n",
       "    <tr>\n",
       "      <th>4</th>\n",
       "      <td>1017023</td>\n",
       "      <td>4</td>\n",
       "      <td>1</td>\n",
       "      <td>1</td>\n",
       "      <td>3</td>\n",
       "      <td>2</td>\n",
       "      <td>1</td>\n",
       "      <td>3</td>\n",
       "      <td>1</td>\n",
       "      <td>1</td>\n",
       "      <td>2</td>\n",
       "    </tr>\n",
       "  </tbody>\n",
       "</table>\n",
       "</div>"
      ],
      "text/plain": [
       "        ID  Clump  UnifSize  UnifShape  MargAdh  SingEpiSize BareNuc  \\\n",
       "0  1000025      5         1          1        1            2       1   \n",
       "1  1002945      5         4          4        5            7      10   \n",
       "2  1015425      3         1          1        1            2       2   \n",
       "3  1016277      6         8          8        1            3       4   \n",
       "4  1017023      4         1          1        3            2       1   \n",
       "\n",
       "   BlandChrom  NormNucl  Mit  Class  \n",
       "0           3         1    1      2  \n",
       "1           3         2    1      2  \n",
       "2           3         1    1      2  \n",
       "3           3         7    1      2  \n",
       "4           3         1    1      2  "
      ]
     },
     "execution_count": 25,
     "metadata": {},
     "output_type": "execute_result"
    }
   ],
   "source": [
    "#Baca dataset\n",
    "df = pd.read_csv(\"cell_samples.csv\")\n",
    "df.head()"
   ]
  },
  {
   "cell_type": "code",
   "execution_count": 26,
   "metadata": {
    "colab": {
     "base_uri": "https://localhost:8080/"
    },
    "id": "J3KURyG8DQzF",
    "outputId": "b3f74931-3cd4-44e6-a795-8b66be15a4a3"
   },
   "outputs": [
    {
     "name": "stdout",
     "output_type": "stream",
     "text": [
      "<class 'pandas.core.frame.DataFrame'>\n",
      "RangeIndex: 699 entries, 0 to 698\n",
      "Data columns (total 11 columns):\n",
      " #   Column       Non-Null Count  Dtype \n",
      "---  ------       --------------  ----- \n",
      " 0   ID           699 non-null    int64 \n",
      " 1   Clump        699 non-null    int64 \n",
      " 2   UnifSize     699 non-null    int64 \n",
      " 3   UnifShape    699 non-null    int64 \n",
      " 4   MargAdh      699 non-null    int64 \n",
      " 5   SingEpiSize  699 non-null    int64 \n",
      " 6   BareNuc      699 non-null    object\n",
      " 7   BlandChrom   699 non-null    int64 \n",
      " 8   NormNucl     699 non-null    int64 \n",
      " 9   Mit          699 non-null    int64 \n",
      " 10  Class        699 non-null    int64 \n",
      "dtypes: int64(10), object(1)\n",
      "memory usage: 60.2+ KB\n"
     ]
    }
   ],
   "source": [
    "df.info()"
   ]
  },
  {
   "cell_type": "code",
   "execution_count": 27,
   "metadata": {
    "id": "cCBS-LXhVsYX"
   },
   "outputs": [],
   "source": [
    "# Mengatasi datatype yang masih object\n",
    "df = df[pd.to_numeric(df['BareNuc'], errors='coerce').notnull()]\n",
    "df['BareNuc'] = df['BareNuc'].astype('int')"
   ]
  },
  {
   "cell_type": "code",
   "execution_count": 28,
   "metadata": {
    "colab": {
     "base_uri": "https://localhost:8080/"
    },
    "id": "YwcA6QsFQJdH",
    "outputId": "8de740bb-1b21-4f2f-8fdc-44043fc17dee"
   },
   "outputs": [
    {
     "data": {
      "text/plain": [
       "array([[ 5,  1,  1, ...,  3,  1,  1],\n",
       "       [ 5,  4,  4, ...,  3,  2,  1],\n",
       "       [ 3,  1,  1, ...,  3,  1,  1],\n",
       "       ...,\n",
       "       [ 5, 10, 10, ...,  8, 10,  2],\n",
       "       [ 4,  8,  6, ..., 10,  6,  1],\n",
       "       [ 4,  8,  8, ..., 10,  4,  1]], dtype=int64)"
      ]
     },
     "execution_count": 28,
     "metadata": {},
     "output_type": "execute_result"
    }
   ],
   "source": [
    "# Buat dataframe untuk feature\n",
    "df_feature = df[['Clump', 'UnifSize', 'UnifShape', 'MargAdh', 'SingEpiSize', 'BareNuc', 'BlandChrom', 'NormNucl', 'Mit']]\n",
    "df_feature = np.asarray(df_feature)\n",
    "df_feature"
   ]
  },
  {
   "cell_type": "code",
   "execution_count": 29,
   "metadata": {
    "colab": {
     "base_uri": "https://localhost:8080/"
    },
    "id": "Yl2l4ru5Qcfj",
    "outputId": "39d7137d-d561-4b58-999e-ab418fbd7132"
   },
   "outputs": [
    {
     "data": {
      "text/plain": [
       "array([2, 2, 2, 2, 2, 4, 2, 2, 2, 2, 2, 2, 4, 2, 4, 4, 2, 2, 4, 2])"
      ]
     },
     "execution_count": 29,
     "metadata": {},
     "output_type": "execute_result"
    }
   ],
   "source": [
    "# Buat dataframe untuk label\n",
    "df['Class'] = df['Class'].astype('int')\n",
    "df_label = np.asarray(df['Class'])\n",
    "df_label[0:20]"
   ]
  },
  {
   "cell_type": "code",
   "execution_count": 30,
   "metadata": {
    "colab": {
     "base_uri": "https://localhost:8080/"
    },
    "id": "wCc5DPekZimQ",
    "outputId": "b9b8ad57-2224-4206-a523-f308846085fa"
   },
   "outputs": [
    {
     "data": {
      "text/plain": [
       "array([-1, -1, -1, -1, -1,  1, -1, -1, -1, -1, -1, -1,  1, -1,  1,  1, -1,\n",
       "       -1,  1, -1])"
      ]
     },
     "execution_count": 30,
     "metadata": {},
     "output_type": "execute_result"
    }
   ],
   "source": [
    "# Mengubah label menjadi 1 atau -1\n",
    "df_label = df_label.astype(int)\n",
    "for z in range(len(df_label)):\n",
    "  if(df_label[z] == 4):\n",
    "    df_label[z] = 1\n",
    "  if(df_label[z] == 2):\n",
    "    df_label[z] = -1\n",
    "\n",
    "df_label[0:20]"
   ]
  },
  {
   "cell_type": "markdown",
   "metadata": {
    "id": "eoMLcvmBknk-"
   },
   "source": [
    "## Support Vector Machine"
   ]
  },
  {
   "cell_type": "markdown",
   "metadata": {
    "id": "XlfxFkcI33GG"
   },
   "source": [
    "![image.png](data:image/png;base64,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)"
   ]
  },
  {
   "cell_type": "code",
   "execution_count": 31,
   "metadata": {
    "id": "mtOJHkdMEEGj"
   },
   "outputs": [],
   "source": [
    "class SVM():\n",
    "  def __init__(self, max_iter=10000, kernel_type='linear', C=1.0, epsilon=0.001):\n",
    "    self.kernels = {\n",
    "        'linear' : self.kernel_linear,\n",
    "        'quadratic' : self.kernel_quadratic\n",
    "    }\n",
    "    self.max_iter = max_iter\n",
    "    self.kernel_type = kernel_type\n",
    "    self.C = C\n",
    "    self.epsilon = epsilon\n",
    "  def fit(self, X, y):\n",
    "    # n = number of samples\n",
    "    n = X.shape[0]\n",
    "    # buat zeros\n",
    "    alpha = np.zeros((n))\n",
    "    # memilih kernel\n",
    "    kernel = self.kernels[self.kernel_type]\n",
    "    \n",
    "    iteration = 0\n",
    "    while True:\n",
    "      iteration += 1\n",
    "      # menyimpan alpha\n",
    "      alpha_prev = np.copy(alpha)\n",
    "            \n",
    "      for j in range(0, n):  \n",
    "        # mengambil random sample dimana i not equal to j\n",
    "        i = self.get_rnd_int(0, n-1, j)\n",
    "        x_i = X[i,:]\n",
    "        x_j = X[j,:]\n",
    "        y_i = y[i]\n",
    "        y_j = y[j]\n",
    "        k_ij = kernel(x_i, x_i) + kernel(x_j, x_j) - 2 * kernel(x_i, x_j)\n",
    "           \n",
    "        if k_ij == 0:\n",
    "          continue\n",
    "                \n",
    "        # Menghitung L dan H\n",
    "        alpha_prime_j, alpha_prime_i = alpha[j], alpha[i]\n",
    "        (L, H) = self.compute_L_H(self.C, alpha_prime_j, alpha_prime_i, y_j, y_i)\n",
    "\n",
    "        # Menghitung model parameter\n",
    "        self.w = self.calc_w(alpha, y, X)\n",
    "        self.b = self.calc_b(X, y, self.w)\n",
    "\n",
    "        # Menghitung E_i, E_j\n",
    "        E_i = self.E(x_i, y_i, self.w, self.b)\n",
    "        E_j = self.E(x_j, y_j, self.w, self.b)\n",
    "\n",
    "        # Alpha values\n",
    "        alpha[j] = alpha_prime_j + float(y_j * (E_i - E_j))/k_ij\n",
    "        alpha[j] = max(alpha[j], L)\n",
    "        alpha[j] = min(alpha[j], H)\n",
    "        alpha[i] = alpha_prime_i + y_i*y_j * (alpha_prime_j - alpha[j])\n",
    "\n",
    "      # Terminating condition: reacing convergence\n",
    "      diff = np.linalg.norm(alpha - alpha_prev)\n",
    "      if diff < self.epsilon:\n",
    "        break\n",
    "\n",
    "      #Terminating condition: Reaching max iterations\n",
    "      if iteration >= self.max_iter:\n",
    "        print(\"Iteration number exceeded the max of %d iterations\" % (self.max_iter))\n",
    "        return\n",
    "            \n",
    "    # Menghitung final model parameters\n",
    "    self.b = self.calc_b(X, y, self.w)\n",
    "    if self.kernel_type == 'linear':\n",
    "      self.w = self.calc_w(alpha, y, X)\n",
    "            \n",
    "            \n",
    "  def predict(self, X):\n",
    "    return self.h(X, self.w, self.b)\n",
    "    \n",
    "  def calc_b(self, X, y, w):\n",
    "    b_tmp = y - np.dot(w.T, X.T)\n",
    "    return np.mean(b_tmp)\n",
    "    \n",
    "  def calc_w(self, alpha, y, X):\n",
    "    return np.dot(alpha * y, X)\n",
    "    \n",
    "  # Predict\n",
    "  def h(self, X, w, b):\n",
    "    return np.sign(np.dot(w.T, X.T) + b).astype(int)\n",
    "    \n",
    "  # Error\n",
    "  def E(self, x_k, y_k, w, b):\n",
    "    return self.h(x_k, w, b) - y_k\n",
    "    \n",
    "  def compute_L_H(self, C, alpha_prime_j, alpha_prime_i, y_j, y_i):\n",
    "    if(y_i != y_j):\n",
    "      return (max(0, alpha_prime_j - alpha_prime_i), min(C, C - alpha_prime_i + alpha_prime_j))\n",
    "    else:\n",
    "      return (max(0, alpha_prime_i + alpha_prime_j - C), min(C, alpha_prime_i + alpha_prime_j))\n",
    "        \n",
    "  def get_rnd_int(self, a,b,z):\n",
    "    i = z\n",
    "    cnt=0\n",
    "    while i == z and cnt<1000:\n",
    "      i = rnd.randint(a,b)\n",
    "      cnt=cnt+1\n",
    "    return i\n",
    "    \n",
    "  # Define kernels\n",
    "  def kernel_linear(self, x1, x2):\n",
    "    return np.dot(x1, x2.T)\n",
    "  def kernel_quadratic(self, x1, x2):\n",
    "    return (np.dot(x1, x2.T) ** 2)\n",
    "    \n",
    "  # Print parameters SVM\n",
    "  def print_info(self):\n",
    "    print(\"Support Vector Machine Algorithm Parameters\")\n",
    "    print(\"C:\",self.C)\n",
    "    print(\"max_iter:\",self.max_iter)\n",
    "    print(\"epsilon:\",self.epsilon)\n",
    "    print(\"kernel_type:\",self.kernel_type)"
   ]
  },
  {
   "cell_type": "markdown",
   "metadata": {
    "id": "XnmMqP5fl1C8"
   },
   "source": [
    "## Accuracy"
   ]
  },
  {
   "cell_type": "code",
   "execution_count": 32,
   "metadata": {
    "id": "0xYB7NldF8Cb"
   },
   "outputs": [],
   "source": [
    "def calc_acc(y, y_hat):\n",
    "  correct_counter = 0\n",
    "  for i in range(0,len(y)):\n",
    "    if(y[i] == -1 and y_hat[i] == -1):\n",
    "      correct_counter = correct_counter + 1\n",
    "    if(y[i] == 1 and y_hat[i] == 1):\n",
    "      correct_counter = correct_counter + 1\n",
    "  return (correct_counter/len(y))"
   ]
  },
  {
   "cell_type": "markdown",
   "metadata": {
    "id": "tfsc2gQtl7M-"
   },
   "source": [
    "## Main"
   ]
  },
  {
   "cell_type": "code",
   "execution_count": 33,
   "metadata": {
    "colab": {
     "base_uri": "https://localhost:8080/",
     "height": 666
    },
    "id": "ene2CW_-F9wh",
    "outputId": "28843b03-e864-4b81-d485-2fd263b6ed97"
   },
   "outputs": [
    {
     "name": "stdout",
     "output_type": "stream",
     "text": [
      "Support Vector Machine Algorithm Parameters\n",
      "C: 1\n",
      "max_iter: 1000\n",
      "epsilon: 0.001\n",
      "kernel_type: linear\n",
      "\n",
      "Accuracy: 0.9781021897810219\n"
     ]
    },
    {
     "data": {
      "image/png": "[encoded data removed]",
      "text/plain": [
       "<Figure size 432x288 with 1 Axes>"
      ]
     },
     "metadata": {
      "needs_background": "light"
     },
     "output_type": "display_data"
    },
    {
     "data": {
      "image/png": "[encoded data removed]",
      "text/plain": [
       "<Figure size 432x288 with 1 Axes>"
      ]
     },
     "metadata": {
      "needs_background": "light"
     },
     "output_type": "display_data"
    }
   ],
   "source": [
    "# Parameter svm\n",
    "C = 1\n",
    "max_iter = 1000\n",
    "epsilon = 0.001\n",
    "kernel_type = 'linear'\n",
    "model = SVM(max_iter,kernel_type,C,epsilon)\n",
    "    \n",
    "# Split dataframe menjadi 0.8 training dan 0.2 test\n",
    "X_train, X_test, y_train, y_test = train_test_split(df_feature, df_label, test_size = 0.2, random_state = 0)\n",
    "global support_vectors\n",
    "model.fit(X_train,y_train)\n",
    "\n",
    "# Make prediction\n",
    "y_hat = model.predict(X_test)\n",
    "\n",
    "# Calculate accuracy\n",
    "accuracy = calc_acc(y_test, y_hat)\n",
    "model.print_info()\n",
    "print(\"\\nAccuracy:\",accuracy)\n",
    "for i in range(0,len(y_train)):\n",
    "    if(y_train[i] == 1):\n",
    "        plt.plot(X_train[i,0],X_train[i,1],'r*')\n",
    "    else:\n",
    "        plt.plot(X_train[i,0],X_train[i,1],'b*')\n",
    "plt.title(\"Training Set\")\n",
    "plt.show()\n",
    "    \n",
    "# Plot hasil\n",
    "for i in range(0,len(y_hat)):\n",
    "    if(y_hat[i] == 1):\n",
    "        plt.plot(X_test[i,0],X_test[i,1],'r*')\n",
    "    else:\n",
    "        plt.plot(X_test[i,0],X_test[i,1],'b*')\n",
    "plt.title(\"Test Set Result\")\n",
    "plt.show()"
   ]
  }
 ],
 "metadata": {
  "colab": {
   "collapsed_sections": [],
   "provenance": []
  },
  "kernelspec": {
   "display_name": "Python 3 (ipykernel)",
   "language": "python",
   "name": "python3"
  },
  "language_info": {
   "codemirror_mode": {
    "name": "ipython",
    "version": 3
   },
   "file_extension": ".py",
   "mimetype": "text/x-python",
   "name": "python",
   "nbconvert_exporter": "python",
   "pygments_lexer": "ipython3",
   "version": "3.10.1"
  }
 },
 "nbformat": 4,
 "nbformat_minor": 1
}
